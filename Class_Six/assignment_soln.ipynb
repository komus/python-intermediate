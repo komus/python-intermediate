{
 "cells": [
  {
   "cell_type": "markdown",
   "metadata": {},
   "source": [
    "# Assignment\n",
    "\n",
    "Using the log file, extract date, time level and message.\n",
    "- Return a list of unique level\n",
    "- Return a dictionary of errors per date. the key of the dictionary is date and number of errors encountered that day value"
   ]
  },
  {
   "cell_type": "code",
   "execution_count": 10,
   "metadata": {},
   "outputs": [],
   "source": [
    "import re\n",
    "from collections import Counter"
   ]
  },
  {
   "cell_type": "code",
   "execution_count": 1,
   "metadata": {},
   "outputs": [],
   "source": [
    "from dataclasses import dataclass\n",
    "\n",
    "@dataclass\n",
    "class LogData:\n",
    "    date:str\n",
    "    time:str\n",
    "    level:str\n",
    "    info:str\n",
    "    message:str"
   ]
  },
  {
   "cell_type": "code",
   "execution_count": 4,
   "metadata": {},
   "outputs": [],
   "source": [
    "pattern = r\"(\\d{2}/\\d{2}) (\\d{2}:\\d{2}:\\d{2})\\s+(\\w+)\\s+:(\\.*\\w+):\\s+(.*)\""
   ]
  },
  {
   "cell_type": "code",
   "execution_count": 8,
   "metadata": {},
   "outputs": [],
   "source": [
    "data_log_list = []\n",
    "\n",
    "with open('logs.txt', 'rt') as f:\n",
    "    for line in f:\n",
    "        match = re.match(pattern, line)\n",
    "        if match:\n",
    "            data = LogData(*match.groups())\n",
    "            data_log_list.append(data)\n"
   ]
  },
  {
   "cell_type": "code",
   "execution_count": 9,
   "metadata": {},
   "outputs": [
    {
     "name": "stdout",
     "output_type": "stream",
     "text": [
      "{'INFO', 'TRACE', 'EVENT'}\n"
     ]
    }
   ],
   "source": [
    "level_set = {log.level for log in data_log_list}\n",
    "print(level_set)"
   ]
  },
  {
   "cell_type": "code",
   "execution_count": 11,
   "metadata": {},
   "outputs": [],
   "source": [
    "date_counter = Counter(data.date for data in data_log_list)"
   ]
  },
  {
   "cell_type": "code",
   "execution_count": 12,
   "metadata": {},
   "outputs": [
    {
     "data": {
      "text/plain": [
       "Counter({'03/22': 149})"
      ]
     },
     "execution_count": 12,
     "metadata": {},
     "output_type": "execute_result"
    }
   ],
   "source": [
    "date_counter"
   ]
  }
 ],
 "metadata": {
  "kernelspec": {
   "display_name": "env",
   "language": "python",
   "name": "python3"
  },
  "language_info": {
   "codemirror_mode": {
    "name": "ipython",
    "version": 3
   },
   "file_extension": ".py",
   "mimetype": "text/x-python",
   "name": "python",
   "nbconvert_exporter": "python",
   "pygments_lexer": "ipython3",
   "version": "3.11.4"
  },
  "orig_nbformat": 4
 },
 "nbformat": 4,
 "nbformat_minor": 2
}
