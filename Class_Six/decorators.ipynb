{
 "cells": [
  {
   "cell_type": "markdown",
   "metadata": {},
   "source": [
    "# Decorators Recap\n",
    "Decorators allows us to wrap a functon/method with additional functionality.\n",
    "- Decorators are higher-order function that takes and returns another function\n",
    "DRY - Dont repeat yourself\n",
    "\n",
    "```python\n",
    "def decorator_name(func):\n",
    "    def wrapper(*args, **kwargs):\n",
    "        perform operations\n",
    "        .\n",
    "        .\n",
    "        .\n",
    "    return wrapper\n",
    "```\n",
    "``` python \n",
    "@decorator_name\n",
    "def dosomething():\n",
    "    pass\n",
    "```\n",
    "\n",
    "## Building blocks for Decorators\n",
    "\n",
    "- You can assign a function to a variable, then access the function from the variable\n",
    "```python\n",
    "def print_all():\n",
    "    print(\"Okay\")\n",
    "\n",
    "variable_x = p\n",
    "```"
   ]
  },
  {
   "cell_type": "code",
   "execution_count": 1,
   "metadata": {},
   "outputs": [],
   "source": [
    "def print_all():\n",
    "    print(\"Okay\")\n",
    "\n",
    "variable_x = print_all # assign function to a variable\n"
   ]
  },
  {
   "cell_type": "code",
   "execution_count": 2,
   "metadata": {},
   "outputs": [
    {
     "name": "stdout",
     "output_type": "stream",
     "text": [
      "Okay\n"
     ]
    }
   ],
   "source": [
    "variable_x()"
   ]
  },
  {
   "cell_type": "markdown",
   "metadata": {},
   "source": [
    "- A function can be nested. You can have a function within a function. NOTE that inner/child functions are not accessible from outside the main/outer/parent layer"
   ]
  },
  {
   "cell_type": "code",
   "execution_count": 5,
   "metadata": {},
   "outputs": [
    {
     "name": "stdout",
     "output_type": "stream",
     "text": [
      "this is the inner layer!!\n",
      "This is the outer layer, Yippee!!\n"
     ]
    }
   ],
   "source": [
    "def outter_layer(): # parent layer\n",
    "    def inner_layer(): # child layer\n",
    "        print(\"this is the inner layer!!\")\n",
    "    inner_layer()\n",
    "    print(\"This is the outer layer, Yippee!!\")\n",
    "\n",
    "outter_layer()"
   ]
  },
  {
   "cell_type": "markdown",
   "metadata": {},
   "source": [
    "- Since nesting is possible, the nested function can be returned"
   ]
  },
  {
   "cell_type": "code",
   "execution_count": 7,
   "metadata": {},
   "outputs": [
    {
     "name": "stdout",
     "output_type": "stream",
     "text": [
      "task of the day: Saying Hello to my peers\n"
     ]
    }
   ],
   "source": [
    "def outer_func():\n",
    "    t = \"Saying Hello to my peers\"\n",
    "    def inner_func():\n",
    "        print(f\"task of the day: {t}\")\n",
    "    return inner_func\n",
    "\n",
    "variable_y = outer_func()\n",
    "variable_y()"
   ]
  },
  {
   "cell_type": "markdown",
   "metadata": {},
   "source": [
    "- function can be passed to another function as argument"
   ]
  },
  {
   "cell_type": "code",
   "execution_count": 8,
   "metadata": {},
   "outputs": [
    {
     "name": "stdout",
     "output_type": "stream",
     "text": [
      "You speak french and english\n",
      "NAIG games start today, I am a bilingual interpreter.\n",
      "Enjoy your day\n"
     ]
    }
   ],
   "source": [
    "def happening_today():\n",
    "    print(f\"NAIG games start today, I am a bilingual interpreter.\")\n",
    "\n",
    "def reminder(func):\n",
    "    print(\"You speak french and english\")\n",
    "    func()\n",
    "    print(\"Enjoy your day\")\n",
    "\n",
    "reminder(happening_today)"
   ]
  },
  {
   "cell_type": "markdown",
   "metadata": {},
   "source": [
    "## Example 1\n",
    "\n",
    " logging and timing"
   ]
  },
  {
   "cell_type": "code",
   "execution_count": 11,
   "metadata": {},
   "outputs": [],
   "source": [
    "import logging\n",
    "def logging_decorator(func):\n",
    "    def wrapper(*args, **kwargs):\n",
    "        print(f\"{func.__name__} was called\")\n",
    "        output = func(*args, **kwargs)\n",
    "        print(f\"function completed with result {output}\")\n",
    "        return output\n",
    "    return wrapper"
   ]
  },
  {
   "cell_type": "code",
   "execution_count": 12,
   "metadata": {},
   "outputs": [
    {
     "name": "stdout",
     "output_type": "stream",
     "text": [
      "add was called\n",
      "function completed with result 15\n",
      "15\n"
     ]
    }
   ],
   "source": [
    "@logging_decorator\n",
    "def add(a, b):\n",
    "    return a+b\n",
    "\n",
    "print(add(7,8))"
   ]
  },
  {
   "cell_type": "code",
   "execution_count": 13,
   "metadata": {},
   "outputs": [
    {
     "name": "stdout",
     "output_type": "stream",
     "text": [
      "print_something was called\n",
      "Hello\n",
      "function completed with result None\n"
     ]
    }
   ],
   "source": [
    "@logging_decorator\n",
    "def print_something():\n",
    "    print(\"Hello\")\n",
    "\n",
    "print_something()"
   ]
  },
  {
   "cell_type": "code",
   "execution_count": 19,
   "metadata": {},
   "outputs": [],
   "source": [
    "import time\n",
    "from datetime import date\n",
    "def timing_decorator(func):\n",
    "    def wrapper(*args, **kwargs):\n",
    "        start = time.time()\n",
    "        output = func(*args, **kwargs)\n",
    "        end = time.time()\n",
    "        print(f\"{date.today()}: {func.__name__} ran for {end - start}secs\")\n",
    "        return output\n",
    "    return wrapper"
   ]
  },
  {
   "cell_type": "code",
   "execution_count": 20,
   "metadata": {},
   "outputs": [
    {
     "name": "stdout",
     "output_type": "stream",
     "text": [
      "2023-07-15: increment_by_2 ran for 0.0009970664978027344secs\n"
     ]
    }
   ],
   "source": [
    "@timing_decorator\n",
    "def increment_by_2():\n",
    "    for i in range(0, 100000, 2):\n",
    "        pass\n",
    "\n",
    "increment_by_2()"
   ]
  },
  {
   "cell_type": "markdown",
   "metadata": {},
   "source": [
    "## Example 2\n",
    "\n",
    "Decorators with arguments - delay \n",
    "\n",
    "if the decorator accepts parameter, the syntax is slightly different\n",
    "\n",
    "```python\n",
    "def decorator_name(decorator_parameter_s)\n",
    "    def wrapper(func):\n",
    "        def inner_function(*args, **kwargs):\n",
    "            perform operations\n",
    "            .\n",
    "            .\n",
    "            .\n",
    "        return inner_function\n",
    "    return wrapper\n",
    "```"
   ]
  },
  {
   "cell_type": "code",
   "execution_count": 21,
   "metadata": {},
   "outputs": [],
   "source": [
    "def delay_in_seconds_decorator(delay_time):\n",
    "    def wrapper(func):\n",
    "        def inner_func(*args, **kwargs):\n",
    "            print(f\"Waiting for {delay_time} before running {func.__name__}\")\n",
    "            time.sleep(delay_time)\n",
    "            func(*args, **kwargs)\n",
    "        return inner_func\n",
    "    return wrapper\n"
   ]
  },
  {
   "cell_type": "code",
   "execution_count": 25,
   "metadata": {},
   "outputs": [
    {
     "name": "stdout",
     "output_type": "stream",
     "text": [
      "Waiting for 4 before running print_my_name\n",
      "DOLAPO, salut!!\n"
     ]
    }
   ],
   "source": [
    "@delay_in_seconds_decorator(4)\n",
    "def print_my_name(name):\n",
    "    print(f\"{name.upper()}, salut!!\")\n",
    "\n",
    "print_my_name(\"Dolapo\")"
   ]
  },
  {
   "cell_type": "markdown",
   "metadata": {},
   "source": [
    "Exception handling"
   ]
  },
  {
   "cell_type": "code",
   "execution_count": 33,
   "metadata": {},
   "outputs": [],
   "source": [
    "def exception_handler_decorator(exception_type, msg=\"An Error\"):\n",
    "    def wrapper(func):\n",
    "        def inner_function(*args, **kwargs):\n",
    "            try:\n",
    "                return func(*args, **kwargs)\n",
    "            except exception_type:\n",
    "                print(f\"{date.today()}: ERROR ... {exception_type}:{msg}\")\n",
    "                return msg\n",
    "        return inner_function\n",
    "    return wrapper"
   ]
  },
  {
   "cell_type": "code",
   "execution_count": 27,
   "metadata": {},
   "outputs": [
    {
     "name": "stdout",
     "output_type": "stream",
     "text": [
      "DEE, salut!!\n"
     ]
    }
   ],
   "source": [
    "@exception_handler_decorator(NameError)\n",
    "def print_my_name(name):\n",
    "    print(f\"{name.upper()}, salut!!\")\n",
    "\n",
    "print_my_name(\"Dee\")"
   ]
  },
  {
   "cell_type": "code",
   "execution_count": 34,
   "metadata": {},
   "outputs": [],
   "source": [
    "@exception_handler_decorator(ZeroDivisionError, \"Cannot divide by 0\")\n",
    "def divide(x, y):\n",
    "    return x/y"
   ]
  },
  {
   "cell_type": "code",
   "execution_count": 35,
   "metadata": {},
   "outputs": [
    {
     "name": "stdout",
     "output_type": "stream",
     "text": [
      "2023-07-15: ERROR ... <class 'ZeroDivisionError'>:Cannot divide by 0\n"
     ]
    },
    {
     "data": {
      "text/plain": [
       "'Cannot divide by 0'"
      ]
     },
     "execution_count": 35,
     "metadata": {},
     "output_type": "execute_result"
    }
   ],
   "source": [
    "divide(10, 0)"
   ]
  }
 ],
 "metadata": {
  "kernelspec": {
   "display_name": "env",
   "language": "python",
   "name": "python3"
  },
  "language_info": {
   "codemirror_mode": {
    "name": "ipython",
    "version": 3
   },
   "file_extension": ".py",
   "mimetype": "text/x-python",
   "name": "python",
   "nbconvert_exporter": "python",
   "pygments_lexer": "ipython3",
   "version": "3.11.4"
  },
  "orig_nbformat": 4
 },
 "nbformat": 4,
 "nbformat_minor": 2
}
