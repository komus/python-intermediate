{
 "cells": [
  {
   "cell_type": "markdown",
   "metadata": {},
   "source": [
    "# Class Exercise \n",
    "\n",
    "1. Read the file aspell_en_CA.txt.gz, then extract all three letter words\n",
    "You can read .gz file using gzip\n",
    "```python\n",
    "import gzip\n",
    "\n",
    "with gzip.open(fname, mode='rt') as f:\n",
    "    pass\n",
    "\n",
    "```"
   ]
  },
  {
   "cell_type": "markdown",
   "metadata": {},
   "source": [
    "2. Remove leading zeros from an IP Address. 192.04.03.02"
   ]
  },
  {
   "cell_type": "markdown",
   "metadata": {},
   "source": [
    "3. Given a list, filter all elements that contains wither `a` or `w`\n",
    "\n",
    "`['goal', 'new', 'user', 'sit', 'eat', 'dinner']`"
   ]
  },
  {
   "cell_type": "markdown",
   "metadata": {},
   "source": [
    "4. Read the file text.txt and extract all the twitter handles and url"
   ]
  }
 ],
 "metadata": {
  "language_info": {
   "name": "python"
  },
  "orig_nbformat": 4
 },
 "nbformat": 4,
 "nbformat_minor": 2
}
