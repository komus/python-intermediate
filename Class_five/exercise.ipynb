{
 "cells": [
  {
   "cell_type": "markdown",
   "metadata": {},
   "source": [
    "# Class Exercise \n",
    "\n",
    "1. Read the file aspell_en_CA.txt.gz, then extract all three letter words\n",
    "You can read .gz file using gzip\n",
    "```python\n",
    "import gzip\n",
    "\n",
    "with gzip.open(fname, mode='rt') as f:\n",
    "    pass\n",
    "\n",
    "```"
   ]
  }
 ],
 "metadata": {
  "language_info": {
   "name": "python"
  },
  "orig_nbformat": 4
 },
 "nbformat": 4,
 "nbformat_minor": 2
}
